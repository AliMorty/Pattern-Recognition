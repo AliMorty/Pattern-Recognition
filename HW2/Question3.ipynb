{
 "cells": [
  {
   "cell_type": "markdown",
   "metadata": {},
   "source": [
    "\n",
    "# Question 3\n",
    "\n",
    "Bayes Decision Rule is a decision theory which is informed by Bayesian Probability. By using\n",
    "probabilities and costs, Bayes decision rule tries to quantify the trade-off between various\n",
    "decisions. A classifier who applies such a decision theory uses the concepts of Bayesian statistics to\n",
    "estimate the expected value of its decisions.<br>\n",
    "Assume an Image Segmentation problem, in which the goal\n",
    "is to classify pixels of an image into three classes, ‘sabzeh’,\n",
    "‘ribbon’ and ‘background’.<br>\n",
    "The dataset contains 15 pixels and their RGB values.\n",
    "Suppose that you are only allowed to use two channels.<br>"
   ]
  },
  {
   "cell_type": "code",
   "execution_count": 1,
   "metadata": {},
   "outputs": [],
   "source": [
    "import numpy as np\n",
    "import pandas as pd\n",
    "import matplotlib.pyplot as plt"
   ]
  },
  {
   "cell_type": "code",
   "execution_count": 2,
   "metadata": {},
   "outputs": [
    {
     "data": {
      "text/html": [
       "<div>\n",
       "<style scoped>\n",
       "    .dataframe tbody tr th:only-of-type {\n",
       "        vertical-align: middle;\n",
       "    }\n",
       "\n",
       "    .dataframe tbody tr th {\n",
       "        vertical-align: top;\n",
       "    }\n",
       "\n",
       "    .dataframe thead th {\n",
       "        text-align: right;\n",
       "    }\n",
       "</style>\n",
       "<table border=\"1\" class=\"dataframe\">\n",
       "  <thead>\n",
       "    <tr style=\"text-align: right;\">\n",
       "      <th></th>\n",
       "      <th>Label</th>\n",
       "      <th>c-1</th>\n",
       "      <th>c-2</th>\n",
       "      <th>c-3</th>\n",
       "    </tr>\n",
       "  </thead>\n",
       "  <tbody>\n",
       "    <tr>\n",
       "      <th>0</th>\n",
       "      <td>1</td>\n",
       "      <td>69</td>\n",
       "      <td>116</td>\n",
       "      <td>14</td>\n",
       "    </tr>\n",
       "    <tr>\n",
       "      <th>1</th>\n",
       "      <td>1</td>\n",
       "      <td>88</td>\n",
       "      <td>132</td>\n",
       "      <td>35</td>\n",
       "    </tr>\n",
       "    <tr>\n",
       "      <th>2</th>\n",
       "      <td>1</td>\n",
       "      <td>104</td>\n",
       "      <td>157</td>\n",
       "      <td>17</td>\n",
       "    </tr>\n",
       "    <tr>\n",
       "      <th>3</th>\n",
       "      <td>1</td>\n",
       "      <td>25</td>\n",
       "      <td>22</td>\n",
       "      <td>17</td>\n",
       "    </tr>\n",
       "    <tr>\n",
       "      <th>4</th>\n",
       "      <td>1</td>\n",
       "      <td>99</td>\n",
       "      <td>145</td>\n",
       "      <td>98</td>\n",
       "    </tr>\n",
       "    <tr>\n",
       "      <th>5</th>\n",
       "      <td>2</td>\n",
       "      <td>208</td>\n",
       "      <td>30</td>\n",
       "      <td>44</td>\n",
       "    </tr>\n",
       "    <tr>\n",
       "      <th>6</th>\n",
       "      <td>2</td>\n",
       "      <td>113</td>\n",
       "      <td>19</td>\n",
       "      <td>20</td>\n",
       "    </tr>\n",
       "    <tr>\n",
       "      <th>7</th>\n",
       "      <td>2</td>\n",
       "      <td>159</td>\n",
       "      <td>11</td>\n",
       "      <td>23</td>\n",
       "    </tr>\n",
       "    <tr>\n",
       "      <th>8</th>\n",
       "      <td>2</td>\n",
       "      <td>199</td>\n",
       "      <td>19</td>\n",
       "      <td>31</td>\n",
       "    </tr>\n",
       "    <tr>\n",
       "      <th>9</th>\n",
       "      <td>2</td>\n",
       "      <td>249</td>\n",
       "      <td>141</td>\n",
       "      <td>167</td>\n",
       "    </tr>\n",
       "    <tr>\n",
       "      <th>10</th>\n",
       "      <td>3</td>\n",
       "      <td>226</td>\n",
       "      <td>231</td>\n",
       "      <td>235</td>\n",
       "    </tr>\n",
       "    <tr>\n",
       "      <th>11</th>\n",
       "      <td>3</td>\n",
       "      <td>133</td>\n",
       "      <td>131</td>\n",
       "      <td>116</td>\n",
       "    </tr>\n",
       "    <tr>\n",
       "      <th>12</th>\n",
       "      <td>3</td>\n",
       "      <td>218</td>\n",
       "      <td>214</td>\n",
       "      <td>211</td>\n",
       "    </tr>\n",
       "    <tr>\n",
       "      <th>13</th>\n",
       "      <td>3</td>\n",
       "      <td>186</td>\n",
       "      <td>176</td>\n",
       "      <td>174</td>\n",
       "    </tr>\n",
       "    <tr>\n",
       "      <th>14</th>\n",
       "      <td>3</td>\n",
       "      <td>207</td>\n",
       "      <td>202</td>\n",
       "      <td>199</td>\n",
       "    </tr>\n",
       "  </tbody>\n",
       "</table>\n",
       "</div>"
      ],
      "text/plain": [
       "<div>\n",
       "<style scoped>\n",
       "    .dataframe tbody tr th:only-of-type {\n",
       "        vertical-align: middle;\n",
       "    }\n",
       "\n",
       "    .dataframe tbody tr th {\n",
       "        vertical-align: top;\n",
       "    }\n",
       "\n",
       "    .dataframe thead th {\n",
       "        text-align: right;\n",
       "    }\n",
       "</style>\n",
       "<table border=\"1\" class=\"dataframe\">\n",
       "  <thead>\n",
       "    <tr style=\"text-align: right;\">\n",
       "      <th></th>\n",
       "      <th>Label</th>\n",
       "      <th>c-1</th>\n",
       "      <th>c-2</th>\n",
       "      <th>c-3</th>\n",
       "    </tr>\n",
       "  </thead>\n",
       "  <tbody>\n",
       "    <tr>\n",
       "      <th>0</th>\n",
       "      <td>1</td>\n",
       "      <td>69</td>\n",
       "      <td>116</td>\n",
       "      <td>14</td>\n",
       "    </tr>\n",
       "    <tr>\n",
       "      <th>1</th>\n",
       "      <td>1</td>\n",
       "      <td>88</td>\n",
       "      <td>132</td>\n",
       "      <td>35</td>\n",
       "    </tr>\n",
       "    <tr>\n",
       "      <th>2</th>\n",
       "      <td>1</td>\n",
       "      <td>104</td>\n",
       "      <td>157</td>\n",
       "      <td>17</td>\n",
       "    </tr>\n",
       "    <tr>\n",
       "      <th>3</th>\n",
       "      <td>1</td>\n",
       "      <td>25</td>\n",
       "      <td>22</td>\n",
       "      <td>17</td>\n",
       "    </tr>\n",
       "    <tr>\n",
       "      <th>4</th>\n",
       "      <td>1</td>\n",
       "      <td>99</td>\n",
       "      <td>145</td>\n",
       "      <td>98</td>\n",
       "    </tr>\n",
       "    <tr>\n",
       "      <th>5</th>\n",
       "      <td>2</td>\n",
       "      <td>208</td>\n",
       "      <td>30</td>\n",
       "      <td>44</td>\n",
       "    </tr>\n",
       "    <tr>\n",
       "      <th>6</th>\n",
       "      <td>2</td>\n",
       "      <td>113</td>\n",
       "      <td>19</td>\n",
       "      <td>20</td>\n",
       "    </tr>\n",
       "    <tr>\n",
       "      <th>7</th>\n",
       "      <td>2</td>\n",
       "      <td>159</td>\n",
       "      <td>11</td>\n",
       "      <td>23</td>\n",
       "    </tr>\n",
       "    <tr>\n",
       "      <th>8</th>\n",
       "      <td>2</td>\n",
       "      <td>199</td>\n",
       "      <td>19</td>\n",
       "      <td>31</td>\n",
       "    </tr>\n",
       "    <tr>\n",
       "      <th>9</th>\n",
       "      <td>2</td>\n",
       "      <td>249</td>\n",
       "      <td>141</td>\n",
       "      <td>167</td>\n",
       "    </tr>\n",
       "    <tr>\n",
       "      <th>10</th>\n",
       "      <td>3</td>\n",
       "      <td>226</td>\n",
       "      <td>231</td>\n",
       "      <td>235</td>\n",
       "    </tr>\n",
       "    <tr>\n",
       "      <th>11</th>\n",
       "      <td>3</td>\n",
       "      <td>133</td>\n",
       "      <td>131</td>\n",
       "      <td>116</td>\n",
       "    </tr>\n",
       "    <tr>\n",
       "      <th>12</th>\n",
       "      <td>3</td>\n",
       "      <td>218</td>\n",
       "      <td>214</td>\n",
       "      <td>211</td>\n",
       "    </tr>\n",
       "    <tr>\n",
       "      <th>13</th>\n",
       "      <td>3</td>\n",
       "      <td>186</td>\n",
       "      <td>176</td>\n",
       "      <td>174</td>\n",
       "    </tr>\n",
       "    <tr>\n",
       "      <th>14</th>\n",
       "      <td>3</td>\n",
       "      <td>207</td>\n",
       "      <td>202</td>\n",
       "      <td>199</td>\n",
       "    </tr>\n",
       "  </tbody>\n",
       "</table>\n",
       "</div>"
      ]
     },
     "execution_count": 2,
     "metadata": {},
     "output_type": "execute_result"
    }
   ],
   "source": [
    "df = pd.read_csv(\"a_input.txt\", sep=\" \", encoding = 'utf8')\n",
    "data = np.asarray(df[['Label', 'c-1', 'c-2','c-3']])\n",
    "df[['Label', 'c-1', 'c-2','c-3']]"
   ]
  },
  {
   "cell_type": "markdown",
   "metadata": {},
   "source": [
    "### a) By visual inspection using 2D feature space, evaluate which two channels are the most suited."
   ]
  },
  {
   "cell_type": "code",
   "execution_count": 3,
   "metadata": {},
   "outputs": [
    {
     "data": {
      "image/png": "[encoded data removed]",
      "text/plain": [
       "<Figure size 432x288 with 1 Axes>"
      ]
     },
     "metadata": {},
     "output_type": "display_data"
    },
    {
     "name": "stdout",
     "output_type": "stream",
     "text": [
      "\n\n"
     ]
    },
    {
     "data": {
      "image/png": "[encoded data removed]",
      "text/plain": [
       "<Figure size 432x288 with 1 Axes>"
      ]
     },
     "metadata": {},
     "output_type": "display_data"
    },
    {
     "name": "stdout",
     "output_type": "stream",
     "text": [
      "\n\n"
     ]
    },
    {
     "data": {
      "image/png": "[encoded data removed]",
      "text/plain": [
       "<Figure size 432x288 with 1 Axes>"
      ]
     },
     "metadata": {},
     "output_type": "display_data"
    },
    {
     "name": "stdout",
     "output_type": "stream",
     "text": [
      "\n\n"
     ]
    }
   ],
   "source": [
    "for i in range (0, 3):\n",
    "    for j in range(i+1, 3):\n",
    "        plt.scatter(data[:,(i+1)], data[:,(j+1)], c=data[:,0])\n",
    "        plt.xlabel(\"Channel \" + str(i+1))\n",
    "        plt.ylabel(\"Channel \" + str(j+1))\n",
    "        plt.show()\n",
    "        print (\"\\n\")\n"
   ]
  },
  {
   "cell_type": "markdown",
   "metadata": {},
   "source": [
    "It seems that the pair **(Channel-1, Channel 2)** is the best pair. Because all points can be classified correctly with two lines. "
   ]
  },
  {
   "cell_type": "markdown",
   "metadata": {},
   "source": [
    "### b) Design a classifier using the Bayes rule by considering the two features you picked in the previous part. The data are assumed to have Gaussian distributions with the same covariance matrix $ \\Sigma = I_2 $ . Find the general form of the discriminant function."
   ]
  },
  {
   "cell_type": "markdown",
   "metadata": {},
   "source": [
    "We need to calculate the following inequality:\n",
    "$$ \\frac{p(x|\\omega_1)}{p(x|\\omega_2)} - \\frac{p(\\omega_2)}{p(\\omega_1)} \\geq_{\\omega_1} 0$$\n",
    "Which is equal to:\n",
    "$$ \\frac{\\exp(-\\frac{1}{2} (x-\\mu_1)^T\\Sigma(x-\\mu_1))}{\\exp(-\\frac{1}{2} (x-\\mu_2)^T\\Sigma(x-\\mu_2))}  \\geq_{\\omega_1}  \\frac{p(\\omega_2)}{p(\\omega_1)} \\rightarrow$$\n",
    "<br>\n",
    "\n",
    "$$ \\frac{\\exp(-\\frac{1}{2} (x-\\mu_1)^T (x-\\mu_1))}{\\exp(-\\frac{1}{2} (x-\\mu_2)^T (x-\\mu_2))}  \\geq_{\\omega_1} 1 \\rightarrow $$\n",
    "<br>\n",
    "$$ \\exp(-\\frac{1}{2} (x-\\mu_1)^T (x-\\mu_1))  \\geq_{\\omega_1} \\exp(-\\frac{1}{2} (x-\\mu_2)^T (x-\\mu_2)) \\rightarrow $$\n",
    "<br>\n",
    "$$ (x-\\mu_2)^T (x-\\mu_2)   \\geq_{\\omega_1} (x-\\mu_1)^T (x-\\mu_1) \\rightarrow $$\n",
    "<br>\n",
    "$$ x^T (\\mu_1-\\mu_2) + \\frac{1}{2} (\\mu_1^T\\mu_1 - \\mu_2^T\\mu_2)  \\geq_{\\omega_1}  0$$"
   ]
  },
  {
   "cell_type": "markdown",
   "metadata": {},
   "source": [
    "So the descriminant function is a hyperplane with norm $\\mu_1-\\mu_2$"
   ]
  },
  {
   "cell_type": "code",
   "execution_count": 28,
   "metadata": {},
   "outputs": [
    {
     "name": "stdout",
     "output_type": "stream",
     "text": [
      "[[  1.   77.  114.4  36.2]\n [  2.  185.6  44.   57. ]\n [  3.  194.  190.8 187. ]]\n"
     ]
    }
   ],
   "source": [
    "test = np.array(\n",
    "                [[ 196, 34, 49],\n",
    "                [ 195, 180, 185],\n",
    "                [ 255, 88, 116],\n",
    "                [ 125, 110, 43],\n",
    "                [ 110, 146, 108]])\n",
    "# print (data)\n",
    "# print (data[data[:,0]==1])\n",
    "avg = []\n",
    "for i in range(1, 4):\n",
    "    sel = data[data[:,0]==i]\n",
    "    t = np.average(sel, axis=0)\n",
    "    avg.append(t)\n",
    "avg = np.asarray(avg)\n",
    "print (avg)"
   ]
  },
  {
   "cell_type": "code",
   "execution_count": 75,
   "metadata": {},
   "outputs": [],
   "source": [
    "import sys\n",
    "def identify_class(x, mu):\n",
    "    for k in range(0,3):\n",
    "        point =0\n",
    "        for l in range (0,3):\n",
    "            if (k==l):\n",
    "                continue\n",
    "            # print (2*np.matmul(x.T, mu[k]-mu[l])+np.matmul(mu[k].T, mu[k])-np.matmul(mu[l].T, mu[l]))\n",
    "            # print (x)\n",
    "            # print (mu[k])\n",
    "            # print (mu[l])\n",
    "            # print (2*np.matmul(x.T, mu[k]-mu[l])+np.matmul(mu[k].T, mu[k])-np.matmul(mu[l].T, mu[l])>=0)\n",
    "            \n",
    "            if (2*np.matmul(x, mu[l]-mu[k])+np.dot(mu[k], mu[k])-np.dot(mu[l], mu[l])<=0):\n",
    "                point +=1\n",
    "        # print (k,\"point\",  point)\n",
    "        if (point == 2):\n",
    "            \n",
    "            return k\n",
    "        \n",
    "    print (\"ERROR\")\n",
    "    return 0\n",
    "            \n",
    "                \n",
    "                \n",
    "    \n",
    "        "
   ]
  },
  {
   "cell_type": "code",
   "execution_count": 76,
   "metadata": {},
   "outputs": [
    {
     "data": {
      "image/png": "[encoded data removed]",
      "text/plain": [
       "<Figure size 432x288 with 1 Axes>"
      ]
     },
     "metadata": {},
     "output_type": "display_data"
    },
    {
     "name": "stdout",
     "output_type": "stream",
     "text": [
      "\n\n"
     ]
    },
    {
     "data": {
      "image/png": "[encoded data removed]",
      "text/plain": [
       "<Figure size 432x288 with 1 Axes>"
      ]
     },
     "metadata": {},
     "output_type": "display_data"
    },
    {
     "name": "stdout",
     "output_type": "stream",
     "text": [
      "\n\n"
     ]
    },
    {
     "data": {
      "image/png": "[encoded data removed]",
      "text/plain": [
       "<Figure size 432x288 with 1 Axes>"
      ]
     },
     "metadata": {},
     "output_type": "display_data"
    },
    {
     "name": "stdout",
     "output_type": "stream",
     "text": [
      "\n\n"
     ]
    }
   ],
   "source": [
    "for i in range(0, 3):\n",
    "    for j in range(i+1, 3):\n",
    "        plt.scatter(data[:,(i+1)], data[:,(j+1)], c=data[:,0])\n",
    "        plt.scatter(avg[:,(i+1)], avg[:,(j+1)], c=avg[:,0], marker='+', s=200 )\n",
    "        x = test[:,[i,j]]\n",
    "        mu = avg[:,[i+1, j+1]]\n",
    "        cls = []\n",
    "        \n",
    "       \n",
    "        for point in x:\n",
    "            cls.append(identify_class(point, mu))\n",
    "                \n",
    "        plt.scatter(x[:,0], x[:,1], c=cls, marker='x', s=300  )\n",
    "        \n",
    "        plt.xlabel(\"Channel \" + str(i+1))\n",
    "        plt.ylabel(\"Channel \" + str(j+1))\n",
    "        plt.show()\n",
    "        print (\"\\n\")"
   ]
  },
  {
   "cell_type": "code",
   "execution_count": null,
   "metadata": {},
   "outputs": [],
   "source": []
  }
 ],
 "metadata": {
  "kernelspec": {
   "display_name": "Python 3",
   "language": "python",
   "name": "python3"
  },
  "language_info": {
   "codemirror_mode": {
    "name": "ipython",
    "version": 3
   },
   "file_extension": ".py",
   "mimetype": "text/x-python",
   "name": "python",
   "nbconvert_exporter": "python",
   "pygments_lexer": "ipython3",
   "version": "3.5.1"
  }
 },
 "nbformat": 4,
 "nbformat_minor": 2
}
