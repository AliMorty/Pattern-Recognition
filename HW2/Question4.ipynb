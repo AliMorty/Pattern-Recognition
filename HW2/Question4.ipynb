{
 "cells": [
  {
   "cell_type": "markdown",
   "metadata": {},
   "source": [
    "# Question 4 \n",
    "### (Making Decisions using Bayes Decision Rule (Part II))\n",
    "Following the previous problem, here we are going to face a more complicated case, where\n",
    "covariance matrices belonging to each classes are not identical. <br>\n",
    "In this problem, X is a two dimensional feature vector and $p(x|\\omega_i) \\sim N (\\mu_i, \\Sigma_i) , i=1,2$ as its class conditional distribution where $\\mu_i = [2,3]^T, \\mu_2=[0, -2]^T, \\Sigma_1 = [[2,-0.8],[-0.8, 2]] $ and $\\Sigma_2 = [[1, 0.2],[0.2, 1]]$\n",
    "\n",
    "\n",
    "\n",
    "\n"
   ]
  },
  {
   "cell_type": "code",
   "execution_count": 4,
   "metadata": {},
   "outputs": [],
   "source": [
    "import random\n",
    "import numpy as np\n",
    "\n",
    "import matplotlib.pyplot as plt\n",
    "from mpl_toolkits.mplot3d import Axes3D\n",
    "from sklearn import datasets\n",
    "from sklearn.decomposition import PCA\n",
    "# import pandas as pd\n",
    "# import pandas\n",
    "\n",
    "import numpy as np\n",
    "from numpy.linalg import inv\n",
    "# import seaborn as sns\n",
    "from scipy.stats import multivariate_normal\n",
    "from numpy import linalg \n",
    "np.set_printoptions(suppress=True)\n"
   ]
  },
  {
   "cell_type": "markdown",
   "metadata": {},
   "source": [
    "#### a)Sketch the contours of constant values for two class conditional densities."
   ]
  },
  {
   "cell_type": "code",
   "execution_count": 17,
   "metadata": {},
   "outputs": [
    {
     "data": {
      "image/png": "[encoded data removed]",
      "text/plain": [
       "<Figure size 432x288 with 1 Axes>"
      ]
     },
     "metadata": {},
     "output_type": "display_data"
    },
    {
     "data": {
      "image/png": "[encoded data removed]",
      "text/plain": [
       "<Figure size 432x288 with 1 Axes>"
      ]
     },
     "metadata": {},
     "output_type": "display_data"
    }
   ],
   "source": [
    "x,y = np.mgrid[-5:5: 0.1, -5: 5: 0.1]\n",
    "xy = np.vstack((x.flatten(), y.flatten())).T\n",
    "pos = np.empty(x.shape + (2,))\n",
    "pos[:, :, 0] = x; pos[:, :, 1] = y\n",
    "\n",
    "\n",
    "probability_contours = [0.08, 0.04, 0.02, 0.01]\n",
    "mu_1 = np.array([2,3])\n",
    "mu_2 = np.array([0, -2])\n",
    "cov_1 = np.array([[2,-0.8],[-0.8, 2]])\n",
    "cov_2 = np.array([[1, 0.2],[0.2, 1]])\n",
    "\n",
    "sigma_1 = cov_1\n",
    "sigma_2= cov_2\n",
    "\n",
    "rv1 = multivariate_normal(mu_1, cov_1)\n",
    "# plt.contourf(x,y,rv1.pdf(pos),)\n",
    "plt.show()\n",
    "rv2 = multivariate_normal(mu_2, cov_2)\n",
    "plt.contourf(x,y,(rv1.pdf(pos))+rv2.pdf(pos))\n",
    "plt.show()\n",
    "plt.contourf(x,y,(rv1.pdf(pos)/rv2.pdf(pos)-1))\n",
    "plt.show()\n",
    "\n",
    "    "
   ]
  },
  {
   "cell_type": "markdown",
   "metadata": {},
   "source": [
    "#### b) Sketch the decision boundary for Bayesian classifier and minimum distance classifier."
   ]
  },
  {
   "cell_type": "code",
   "execution_count": 6,
   "metadata": {},
   "outputs": [
    {
     "name": "stdout",
     "output_type": "stream",
     "text": [
      "Bayesian Classifier\n"
     ]
    },
    {
     "data": {
      "image/png": "[encoded data removed]",
      "text/plain": [
       "<Figure size 432x288 with 1 Axes>"
      ]
     },
     "metadata": {},
     "output_type": "display_data"
    },
    {
     "name": "stdout",
     "output_type": "stream",
     "text": [
      "Minimum Distance Classifier\n"
     ]
    },
    {
     "data": {
      "image/png": "[encoded data removed]",
      "text/plain": [
       "<Figure size 432x288 with 1 Axes>"
      ]
     },
     "metadata": {},
     "output_type": "display_data"
    }
   ],
   "source": [
    "def d_squared (xy, sigma_1, mu_1, sigma_2, mu_2):\n",
    "    matrix = inv(sigma_1)\n",
    "    a = xy - mu_1\n",
    "    t = np.matmul(a,matrix)\n",
    "    t2 = np.matmul(t, a.T)\n",
    "    matrix = inv(sigma_2)\n",
    "    a = xy - mu_2\n",
    "    t = np.matmul(a,matrix)\n",
    "    t3 = np.matmul(t, a.T)\n",
    "    return t2-t3\n",
    "    # if t2-t3>=0:\n",
    "    #     return 1\n",
    "    # else:\n",
    "    #     return 0\n",
    "    \n",
    "print (\"Bayesian Classifier\")\n",
    "Z = np.apply_along_axis(func1d = d_squared, axis= 1, arr = xy, sigma_1=sigma_1,\n",
    "                        mu_1 = mu_1, sigma_2=sigma_2, mu_2=mu_2)\n",
    "Z = np.reshape(Z, (len(x), -1))\n",
    "plt.contour(x,y,Z, levels=[0,1])\n",
    "plt.show()\n",
    "print (\"Minimum Distance Classifier\")\n",
    "I = np.array([[1,0],[0,1]])\n",
    "Z = np.apply_along_axis(func1d = d_squared, axis= 1, arr = xy, sigma_1=I,\n",
    "                        mu_1 = mu_1, sigma_2=I, mu_2=mu_2)\n",
    "Z = np.reshape(Z, (len(x), -1))\n",
    "plt.contour(x,y,Z, levels=[0,1])\n",
    "plt.show()"
   ]
  },
  {
   "cell_type": "markdown",
   "metadata": {},
   "source": [
    "#### c) Generate 1000 samples for each class and estimate the classification error for each classifier.\n",
    "    "
   ]
  },
  {
   "cell_type": "code",
   "execution_count": 7,
   "metadata": {},
   "outputs": [
    {
     "name": "stdout",
     "output_type": "stream",
     "text": [
      "error for minimum distance classified: 0.012\n",
      "error for bayesian classified: 0.011\n"
     ]
    }
   ],
   "source": [
    "sample_class_0 = np.random.multivariate_normal(mu_1, sigma_1, 1000)\n",
    "sample_class_1 = np.random.multivariate_normal(mu_2, sigma_2, 1000)\n",
    "error=0\n",
    "\n",
    "Z = np.apply_along_axis(func1d = d_squared, axis= 1, arr = sample_class_0, sigma_1=I,\n",
    "                        mu_1 = mu_1, sigma_2=I, mu_2=mu_2)\n",
    "for i in range(0, len(Z)):\n",
    "    if (Z[i]>0):\n",
    "        error+=1\n",
    "Z = np.apply_along_axis(func1d = d_squared, axis= 1, arr = sample_class_1, sigma_1=I,\n",
    "                        mu_1 = mu_1, sigma_2=I, mu_2=mu_2)\n",
    "for i in range(0, len(Z)):\n",
    "    if (Z[i]<=0):\n",
    "        error+=1\n",
    "print (\"error for minimum distance classified:\", error/2000)\n",
    "\n",
    "error=0\n",
    "\n",
    "Z = np.apply_along_axis(func1d = d_squared, axis= 1, arr = sample_class_0, sigma_1=sigma_1,\n",
    "                        mu_1 = mu_1, sigma_2=sigma_2, mu_2=mu_2)\n",
    "for i in range(0, len(Z)):\n",
    "    if (Z[i]>0):\n",
    "        error+=1\n",
    "Z = np.apply_along_axis(func1d = d_squared, axis= 1, arr = sample_class_1, sigma_1=sigma_1,\n",
    "                        mu_1 = mu_1, sigma_2=sigma_2, mu_2=mu_2)\n",
    "for i in range(0, len(Z)):\n",
    "    if (Z[i]<=0):\n",
    "        error+=1\n",
    "print (\"error for bayesian classified:\", error/2000)\n"
   ]
  },
  {
   "cell_type": "markdown",
   "metadata": {},
   "source": [
    "#### d) Considering the following cost matrix, find the decision boundary for Bayes classifier and compare f-score for generated samples with Bayes classifier in part b."
   ]
  },
  {
   "cell_type": "markdown",
   "metadata": {},
   "source": [
    "Now the decision function would be $(x-\\mu)^T\\Sigma_1(x-\\mu_1) - (x-\\mu_2)(\\Sigma_2)(x-\\mu_2) - ln(3) \\geq 0 $"
   ]
  },
  {
   "cell_type": "code",
   "execution_count": 16,
   "metadata": {},
   "outputs": [
    {
     "data": {
      "image/png": "[encoded data removed]",
      "text/plain": [
       "<Figure size 432x288 with 1 Axes>"
      ]
     },
     "metadata": {},
     "output_type": "display_data"
    }
   ],
   "source": [
    "Z = np.apply_along_axis(func1d = d_squared, axis= 1, arr = xy, sigma_1=sigma_1,\n",
    "                        mu_1 = mu_1, sigma_2=sigma_2, mu_2=mu_2)\n",
    "Z = np.reshape(Z, (len(x), -1))\n",
    "plt.contour(x,y,Z, levels=[0, np.log(3)])\n",
    "plt.show()"
   ]
  },
  {
   "cell_type": "code",
   "execution_count": 25,
   "metadata": {},
   "outputs": [
    {
     "name": "stdout",
     "output_type": "stream",
     "text": [
      "f-score for weighted costs: 0.9750367107195301\n",
      "f-score for normal costs: 0.9890329012961117\n"
     ]
    }
   ],
   "source": [
    "t = 100\n",
    "Z = np.apply_along_axis(func1d = d_squared, axis= 1, arr = sample_class_0, sigma_1=sigma_1,\n",
    "                        mu_1 = mu_1, sigma_2=sigma_2, mu_2=mu_2)\n",
    "tp=fp=tn=fn=0\n",
    "\n",
    "for i in range(0, len(Z)):\n",
    "    if (Z[i]>np.log(t)):\n",
    "        fp+=1\n",
    "    else:\n",
    "        tp+=1\n",
    "Z = np.apply_along_axis(func1d = d_squared, axis= 1, arr = sample_class_1, sigma_1=sigma_1,\n",
    "                        mu_1 = mu_1, sigma_2=sigma_2, mu_2=mu_2)\n",
    "for i in range(0, len(Z)):\n",
    "    if (Z[i]<=np.log(t)):\n",
    "        fn+=1\n",
    "    else:\n",
    "        tn+=1\n",
    "precision = tp/(tp+fp)\n",
    "recall = tp/(tp+fn)\n",
    "print (\"f-score for weighted costs:\", 2*(precision*recall)/(precision+recall))\n",
    "\n",
    "Z = np.apply_along_axis(func1d = d_squared, axis= 1, arr = sample_class_0, sigma_1=sigma_1,\n",
    "                        mu_1 = mu_1, sigma_2=sigma_2, mu_2=mu_2)\n",
    "tp=fp=tn=fn=0\n",
    "\n",
    "for i in range(0, len(Z)):\n",
    "    if (Z[i]>0):\n",
    "        fp+=1\n",
    "    else:\n",
    "        tp+=1\n",
    "Z = np.apply_along_axis(func1d = d_squared, axis= 1, arr = sample_class_1, sigma_1=sigma_1,\n",
    "                        mu_1 = mu_1, sigma_2=sigma_2, mu_2=mu_2)\n",
    "for i in range(0, len(Z)):\n",
    "    if (Z[i]<=0):\n",
    "        fn+=1\n",
    "    else:\n",
    "        tn+=1\n",
    "precision = tp/(tp+fp)\n",
    "recall = tp/(tp+fn)\n",
    "print (\"f-score for normal costs:\", 2*(precision*recall)/(precision+recall))"
   ]
  },
  {
   "cell_type": "markdown",
   "metadata": {},
   "source": [
    "There is no significant difference between f-scores. "
   ]
  },
  {
   "cell_type": "code",
   "execution_count": 112,
   "metadata": {},
   "outputs": [
    {
     "name": "stdout",
     "output_type": "stream",
     "text": [
      "bayes error average 0.007975000000000001\n",
      "min dist average 0.009875\n"
     ]
    }
   ],
   "source": [
    "number_of_times=20\n",
    "dis=[]\n",
    "bay=[]\n",
    "for kk in range(0, number_of_times):\n",
    "    sample_class_0 = np.random.multivariate_normal(mu_1, sigma_1, 1000)\n",
    "    sample_class_1 = np.random.multivariate_normal(mu_2, sigma_2, 1000)\n",
    "    error=0\n",
    "    \n",
    "    Z = np.apply_along_axis(func1d = d_squared, axis= 1, arr = sample_class_0, sigma_1=I,\n",
    "                            mu_1 = mu_1, sigma_2=I, mu_2=mu_2)\n",
    "    for i in range(0, len(Z)):\n",
    "        if (Z[i]>0):\n",
    "            error+=1\n",
    "    Z = np.apply_along_axis(func1d = d_squared, axis= 1, arr = sample_class_1, sigma_1=I,\n",
    "                        mu_1 = mu_1, sigma_2=I, mu_2=mu_2)\n",
    "    for i in range(0, len(Z)):\n",
    "        if (Z[i]<=0):\n",
    "            error+=1\n",
    "    dis.append(error/2000)\n",
    "    # print (\"error for minimum distance classified:\", error/2000)\n",
    "    \n",
    "    error=0\n",
    "    \n",
    "    Z = np.apply_along_axis(func1d = d_squared, axis= 1, arr = sample_class_0, sigma_1=sigma_1,\n",
    "                            mu_1 = mu_1, sigma_2=sigma_2, mu_2=mu_2)\n",
    "    for i in range(0, len(Z)):\n",
    "        if (Z[i]>0):\n",
    "            error+=1\n",
    "    Z = np.apply_along_axis(func1d = d_squared, axis= 1, arr = sample_class_1, sigma_1=sigma_1,\n",
    "                            mu_1 = mu_1, sigma_2=sigma_2, mu_2=mu_2)\n",
    "    for i in range(0, len(Z)):\n",
    "        if (Z[i]<=0):\n",
    "            error+=1\n",
    "    bay.append(error/2000)\n",
    "    # print (\"error for bayesian classified:\", error/2000)\n",
    "print (\"bayes error average\", np.average(np.asarray(bay)))\n",
    "print (\"min dist average\", np.average(np.asarray(dis)))"
   ]
  },
  {
   "cell_type": "markdown",
   "metadata": {},
   "source": [
    "On average, bayes classifier works a little better here (for this dataset). <br>\n"
   ]
  }
 ],
 "metadata": {
  "kernelspec": {
   "display_name": "Python 3",
   "language": "python",
   "name": "python3"
  },
  "language_info": {
   "codemirror_mode": {
    "name": "ipython",
    "version": 3
   },
   "file_extension": ".py",
   "mimetype": "text/x-python",
   "name": "python",
   "nbconvert_exporter": "python",
   "pygments_lexer": "ipython3",
   "version": "3.6.5"
  }
 },
 "nbformat": 4,
 "nbformat_minor": 2
}
