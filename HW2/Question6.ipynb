{
 "cells": [
  {
   "cell_type": "markdown",
   "metadata": {},
   "source": [
    "# Question 6\n",
    "\n",
    "#### a) Find the conditional risk for each action $\\alpha_i$\n"
   ]
  },
  {
   "cell_type": "markdown",
   "metadata": {},
   "source": [
    "for each action i and each $x \\subset \\{ 0, 1\\} $ we have: <br>\n",
    "$$ R(\\alpha_i|x) = \\sum_j (C_{ij})p(w_j|x) = \n",
    "\\sum_j (C_{ij})p(w_j)p(x|w_j) * \\frac{1}{p(x)} $$\n",
    "\n"
   ]
  },
  {
   "cell_type": "code",
   "execution_count": 24,
   "metadata": {},
   "outputs": [],
   "source": [
    "import numpy as np\n",
    "import pandas as pd\n",
    "import matplotlib.pyplot as plt\n",
    "from scipy.stats import norm"
   ]
  },
  {
   "cell_type": "code",
   "execution_count": 3,
   "metadata": {},
   "outputs": [
    {
     "name": "stdout",
     "output_type": "stream",
     "text": [
      "P(0) = 0.5107142857142857 , P(1) = 0.48928571428571427\n"
     ]
    }
   ],
   "source": [
    "density = np.array([[3/7,1/3,2/5,5/6],\n",
    "                    [4/7, 2/3, 3/5, 1/6]])\n",
    "cost= np.array([[0,3,2,1],\n",
    "                [4,0,1,8],\n",
    "                [7,1,0,5],\n",
    "                [5,2,4,0]])\n",
    "prior = np.array([3/8,1/8,2/8,2/8])\n",
    "\n",
    "p_x = [0,0]\n",
    "for x in [0,1]:\n",
    "    sum=0\n",
    "    for i in range(0,4):\n",
    "        sum += prior[i]*density[x][i]\n",
    "    p_x[x]=sum\n",
    "print (\"P(0) =\", p_x[0], \", P(1) =\", p_x[1])\n",
    "# print (p_x)"
   ]
  },
  {
   "cell_type": "code",
   "execution_count": 4,
   "metadata": {},
   "outputs": [
    {
     "name": "stdout",
     "output_type": "stream",
     "text": [
      "Risk(alpha 1 | x =  0 ) = 1.0442890442890445\n",
      "Risk(alpha 2 | x =  0 ) = 4.717948717948718\n",
      "Risk(alpha 3 | x =  0 ) = 4.3240093240093245\n",
      "Risk(alpha 4 | x =  0 ) = 2.51981351981352\n",
      "---------------\n",
      "Risk(alpha 1 | x =  1 ) = 1.2092457420924574\n",
      "Risk(alpha 2 | x =  1 ) = 2.7396593673965937\n",
      "Risk(alpha 3 | x =  1 ) = 3.6618004866180045\n",
      "Risk(alpha 4 | x =  1 ) = 3.7566909975669103\n",
      "---------------\n"
     ]
    }
   ],
   "source": [
    "risk_array = np.zeros([2,4])\n",
    "for x in [0,1]:\n",
    "    for i in range(0, 4):\n",
    "        sum =0\n",
    "        for j in range (0, 4):\n",
    "            sum+=prior[j]*cost[i][j]*density[x][j]\n",
    "        sum/=p_x[x]\n",
    "        risk_array[x][i]=sum\n",
    "        \n",
    "for x in [0,1]:\n",
    "    for i in range(0,4):\n",
    "        print (\"Risk(alpha\", i+1, \"| x = \", x, \") =\", risk_array[x][i]) \n",
    "        \n",
    "    print (\"---------------\")\n",
    "  "
   ]
  },
  {
   "cell_type": "markdown",
   "metadata": {},
   "source": [
    "**So when x=0 the best action is to classify as class_1** <br>\n",
    "**and when x=1 classify as class_1.**"
   ]
  },
  {
   "cell_type": "markdown",
   "metadata": {},
   "source": [
    "#### b) Find the overall risk R ."
   ]
  },
  {
   "cell_type": "markdown",
   "metadata": {},
   "source": [
    "\n",
    "By the definition of Conditional Risk Measure: \"For a particular observation x , the goal is to minimize the expected loss by\n",
    "selecting the action that minimizes the conditional risk.\" <br>\n",
    "Overal risk is the expected risk when we choose the best action for each of the observation x. <br>\n",
    "$$ \\text{Overal Risk} = P(x=0)*(min(Risk(x=0))+P(x=1)*(min(Risk(x=1))$$"
   ]
  },
  {
   "cell_type": "code",
   "execution_count": 17,
   "metadata": {},
   "outputs": [
    {
     "name": "stdout",
     "output_type": "stream",
     "text": [
      "Overal Risk: 1.125\n"
     ]
    }
   ],
   "source": [
    "overal_risk = p_x[0]*risk_array[0][0]+p_x[1]*risk_array[1][0]\n",
    "print (\"Overal Risk:\", overal_risk)"
   ]
  },
  {
   "cell_type": "markdown",
   "metadata": {},
   "source": [
    "#### c) What is the optimal Bayes decision rule?"
   ]
  },
  {
   "cell_type": "markdown",
   "metadata": {},
   "source": [
    "First we need to calculate $p(w_i|x)$"
   ]
  },
  {
   "cell_type": "code",
   "execution_count": 23,
   "metadata": {},
   "outputs": [
    {
     "name": "stdout",
     "output_type": "stream",
     "text": [
      "P(w1 | x = 0) = 0.3146853146853147\n",
      "P(w2 | x = 0) = 0.08158508158508158\n",
      "P(w3 | x = 0) = 0.19580419580419584\n",
      "P(w4 | x = 0) = 0.407925407925408\n",
      "-----------------\n",
      "P(w1 | x = 1) = 0.437956204379562\n",
      "P(w2 | x = 1) = 0.170316301703163\n",
      "P(w3 | x = 1) = 0.30656934306569344\n",
      "P(w4 | x = 1) = 0.0851581508515815\n",
      "-----------------\n"
     ]
    }
   ],
   "source": [
    "for x in [0,1]:\n",
    "    for i in range(0,4):\n",
    "        print (\"P(w\"+str(i+1)+\" | x = \"+str(x)+\") =\", prior[i]*density[x][i]/p_x[x])\n",
    "    print (\"-----------------\")"
   ]
  },
  {
   "cell_type": "markdown",
   "metadata": {},
   "source": [
    "**So the optimal decision rule selects w4 as it observes x=0 and w1 as it observes x=1**"
   ]
  },
  {
   "cell_type": "markdown",
   "metadata": {},
   "source": [
    "#### Now, assume the following conditional densities for two classes w1 and w2 in a binary classification problem with a scalar feature x as in the pdf.\n",
    "#### d) Find $K_1$ and $K_2$ ."
   ]
  },
  {
   "cell_type": "markdown",
   "metadata": {},
   "source": [
    "Since both distribution are in the form of normal distribution, we have to select $k_i$ equal to the coefficient of distributions.\n",
    "$$K_i = \\frac{1}{\\sqrt{2\\pi \\sigma^2}}  $$\n",
    "\n",
    "$$ k_1 = \\frac{1}{\\sqrt{20\\pi}} , k_2 = \\frac{1}{\\sqrt{24\\pi}}$$"
   ]
  },
  {
   "cell_type": "markdown",
   "metadata": {},
   "source": [
    "#### e) Plot two densities on a single graph and draw the decision boundary."
   ]
  },
  {
   "cell_type": "code",
   "execution_count": 39,
   "metadata": {},
   "outputs": [
    {
     "data": {
      "image/png": "[encoded data removed]",
      "text/plain": [
       "<Figure size 432x288 with 1 Axes>"
      ]
     },
     "metadata": {},
     "output_type": "display_data"
    }
   ],
   "source": [
    "x =  np.arange(-10,10, 0.1)\n",
    "plt.plot(x, norm.pdf(x,loc=-4, scale=np.sqrt(10)))\n",
    "plt.plot(x, norm.pdf(x,loc=2, scale=np.sqrt(12)) )\n",
    "plt.axvline(x=-0.95, c=\"g\")\n",
    "plt.show()"
   ]
  },
  {
   "cell_type": "code",
   "execution_count": null,
   "metadata": {},
   "outputs": [],
   "source": []
  }
 ],
 "metadata": {
  "kernelspec": {
   "display_name": "Python 3",
   "language": "python",
   "name": "python3"
  },
  "language_info": {
   "codemirror_mode": {
    "name": "ipython",
    "version": 3
   },
   "file_extension": ".py",
   "mimetype": "text/x-python",
   "name": "python",
   "nbconvert_exporter": "python",
   "pygments_lexer": "ipython3",
   "version": "3.5.1"
  }
 },
 "nbformat": 4,
 "nbformat_minor": 2
}
