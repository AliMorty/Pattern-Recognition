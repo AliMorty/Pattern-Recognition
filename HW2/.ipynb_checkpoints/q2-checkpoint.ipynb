{
 "cells": [
  {
   "cell_type": "code",
   "execution_count": 4,
   "metadata": {
    "collapsed": true
   },
   "outputs": [],
   "source": [
    "import numpy as np\n",
    "import sys\n",
    "import matplotlib.pyplot as plt\n"
   ]
  },
  {
   "cell_type": "markdown",
   "metadata": {},
   "source": [
    "When prior probabilities are the same for all classes, the optimum decision rule can be stated very\n",
    "simply: to classify a new sample by finding the class that has a prototype with the minimum\n",
    "Euclidean distance to the new sample. Such a classifier is called a Minimum Distance Classifier.\n",
    "Although a basic algorithm, MDC is a very fast classification method which in some cases works\n",
    "pretty well.<br>\n",
    "In this problem, you are to practice MDC in two different problems. First, assume the following toy\n",
    "dataset:<br>\n",
    "$$ \\omega_1 = [[-1, 0.8],[-1, 0.9], [-1, 1.3]] , \\omega_2 = [[-1, -0.5],[-1.2, -1.5], [-0.8, -1]] , \\omega_3 = [[1.3, 0.5],[0.9, -0.2], [0.8, -0.3]] ,  $$\n",
    "> a ) What are the prototype vectors for a minimum distance classifier?"
   ]
  },
  {
   "cell_type": "code",
   "execution_count": 5,
   "metadata": {},
   "outputs": [
    {
     "data": {
      "image/png": "[encoded data removed]",
      "text/plain": [
       "<Figure size 432x288 with 1 Axes>"
      ]
     },
     "metadata": {},
     "output_type": "display_data"
    },
    {
     "name": "stdout",
     "output_type": "stream",
     "text": [
      "prototype for class 1:  [-1.  1.]\n",
      "prototype for class 2:  [-1. -1.]\n",
      "prototype for class 3:  [1. 0.]\n"
     ]
    }
   ],
   "source": [
    "colors = [\"r\", \"g\", \"b\"]\n",
    "data = []\n",
    "data.append(np.array([[-1, 0.8],[-1, 0.9], [-1, 1.3]]))\n",
    "data.append(np.array([[-1, -0.5],[-1.2, -1.5], [-0.8, -1]]))\n",
    "data.append(np.array([[1.3, 0.5],[0.9, -0.2], [0.8, -0.3]]))                  \n",
    "prototypes =  []\n",
    "for d in data:\n",
    "    prototypes.append(np.average(d, axis=0))\n",
    "for i in range(0, len (data)):\n",
    "    plt.scatter(data[i][:,0],data[i][:,1], c = colors[i])\n",
    "    plt.scatter(prototypes[i][0], prototypes[i][1],marker = '+',  c=colors[i])\n",
    "plt.show()\n",
    "for i in range(0, len (data)):\n",
    "    s = \"prototype for class \"+str(i+1)+\": \"\n",
    "    print (s, prototypes[i])"
   ]
  },
  {
   "cell_type": "markdown",
   "metadata": {},
   "source": [
    "> b. Determine the label of the test vector $[-0.5, 1]^T$"
   ]
  },
  {
   "cell_type": "code",
   "execution_count": 6,
   "metadata": {},
   "outputs": [
    {
     "data": {
      "image/png": "[encoded data removed]",
      "text/plain": [
       "<Figure size 432x288 with 1 Axes>"
      ]
     },
     "metadata": {},
     "output_type": "display_data"
    },
    {
     "name": "stdout",
     "output_type": "stream",
     "text": [
      "[-1.  1.]\n",
      "distance-squared from class 1 : 0.25\n",
      "[-1. -1.]\n",
      "distance-squared from class 2 : 4.25\n",
      "[1. 0.]\n",
      "distance-squared from class 3 : 3.25\n"
     ]
    }
   ],
   "source": [
    "point = np.array([-0.5, 1])\n",
    "for i in range(0, len (data)):\n",
    "    plt.scatter(data[i][:,0],data[i][:,1], c = colors[i])\n",
    "    plt.scatter(prototypes[i][0], prototypes[i][1],marker = '+',  c=colors[i])\n",
    "plt.scatter([-0.5], [1], c='y')\n",
    "plt.show()\n",
    "\n",
    "\n",
    "import sys\n",
    "for i in range (0, len(prototypes)):\n",
    "    print (prototypes[i])\n",
    "    diff = point - prototypes[i]\n",
    "    print (\"distance-squared from class\", i+1, \":\", np.dot(diff, diff))\n",
    "    \n"
   ]
  },
  {
   "cell_type": "markdown",
   "metadata": {},
   "source": [
    "As you can see, the closest prototype to the test point (yellow) is red prototype (first class). "
   ]
  },
  {
   "cell_type": "markdown",
   "metadata": {},
   "source": [
    "> c) Repeat the previous part assuming the new decision function: $d_j(x)=x^Tm_j - \\frac{1}{2} m_j^T m_j$\n"
   ]
  },
  {
   "cell_type": "code",
   "execution_count": 8,
   "metadata": {},
   "outputs": [
    {
     "name": "stdout",
     "output_type": "stream",
     "text": [
      "distance-function for class 1 : 0.5\n",
      "distance-function for class 2 : -1.5\n",
      "distance-function for class 3 : -1.0\n"
     ]
    }
   ],
   "source": [
    "point =  np.array([-0.5, 1])[np.newaxis]\n",
    "for i in range (0, len(prototypes)):\n",
    "    x = point.T\n",
    "    m = prototypes[i][np.newaxis].T\n",
    "    diff = np.matmul(x.T, m) - 0.5*np.matmul(m.T, m)\n",
    "    print (\"distance-function for class\", i+1, \":\", diff[0][0])"
   ]
  },
  {
   "cell_type": "markdown",
   "metadata": {},
   "source": [
    "The point is classified as first class."
   ]
  },
  {
   "cell_type": "markdown",
   "metadata": {},
   "source": [
    "> d) Write down the equation of the decision boundary separating classes 1 and 2 for a MDC\n",
    "classifier."
   ]
  },
  {
   "cell_type": "markdown",
   "metadata": {},
   "source": [
    "Suppose that $a$ and $b$ are prototype points corresponded to class 1 and class 2. Then the boundary equation would be: \n",
    "$$ \\frac{b-a}{||a-b||^2}.(x-a) - \\frac{1}{2} \\leq 0$$\n",
    "So after doing some simple cacluation we will have the equation below:\n",
    "$$ y = 0 $$"
   ]
  },
  {
   "cell_type": "markdown",
   "metadata": {},
   "source": [
    "> e) Repeat the previous part for classes 1 and 3."
   ]
  },
  {
   "cell_type": "markdown",
   "metadata": {},
   "source": [
    "$$ -4x+2y - 11 \\leq 0 $$"
   ]
  },
  {
   "cell_type": "code",
   "execution_count": 21,
   "metadata": {},
   "outputs": [
    {
     "data": {
      "image/png": "[encoded data removed]",
      "text/plain": [
       "<Figure size 432x288 with 1 Axes>"
      ]
     },
     "metadata": {},
     "output_type": "display_data"
    }
   ],
   "source": [
    "x = np.arange(-1, 1, 0.1)\n",
    "y = np.zeros(len(x))\n",
    "for i in range(0, len(x)):\n",
    "    y[i] = (4*x[i] + 1)/2\n",
    "for i in range(0, len (data)):\n",
    "    plt.scatter(data[i][:,0],data[i][:,1], c = colors[i])\n",
    "    plt.scatter(prototypes[i][0], prototypes[i][1],marker = '+',  c=colors[i])\n",
    "plt.plot(x, y, c='y')\n",
    "plt.gca().set_aspect('equal')\n",
    "plt.show()\n",
    "    "
   ]
  },
  {
   "cell_type": "markdown",
   "metadata": {},
   "source": [
    "Now let’s consider a more realworld\n",
    "problem. Load the iris\n",
    "dataset, and consider only first and\n",
    "third features (sepal length and\n",
    "petal length).\n",
    "> f) Classify the following points\n",
    "using MDC."
   ]
  },
  {
   "cell_type": "code",
   "execution_count": null,
   "metadata": {},
   "outputs": [],
   "source": []
  },
  {
   "cell_type": "code",
   "execution_count": null,
   "metadata": {},
   "outputs": [],
   "source": []
  },
  {
   "cell_type": "code",
   "execution_count": null,
   "metadata": {},
   "outputs": [],
   "source": []
  },
  {
   "cell_type": "code",
   "execution_count": null,
   "metadata": {},
   "outputs": [],
   "source": []
  },
  {
   "cell_type": "code",
   "execution_count": null,
   "metadata": {},
   "outputs": [],
   "source": []
  },
  {
   "cell_type": "code",
   "execution_count": null,
   "metadata": {},
   "outputs": [],
   "source": []
  },
  {
   "cell_type": "code",
   "execution_count": null,
   "metadata": {},
   "outputs": [],
   "source": []
  }
 ],
 "metadata": {
  "kernelspec": {
   "display_name": "Python 3",
   "language": "python",
   "name": "python3"
  },
  "language_info": {
   "codemirror_mode": {
    "name": "ipython",
    "version": 3
   },
   "file_extension": ".py",
   "mimetype": "text/x-python",
   "name": "python",
   "nbconvert_exporter": "python",
   "pygments_lexer": "ipython3",
   "version": "3.5.1"
  }
 },
 "nbformat": 4,
 "nbformat_minor": 2
}
