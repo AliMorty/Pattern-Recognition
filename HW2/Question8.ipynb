{
 "cells": [
  {
   "cell_type": "markdown",
   "metadata": {},
   "source": [
    "# Question 8"
   ]
  },
  {
   "cell_type": "markdown",
   "metadata": {},
   "source": [
    "#### a) Find the class priors using the training set. Report the prior probabilities of a pixel being ‘skin’ or being ‘non-skin’."
   ]
  },
  {
   "cell_type": "code",
   "execution_count": 4,
   "metadata": {},
   "outputs": [],
   "source": [
    "import numpy as np\n",
    "import matplotlib.pyplot as plt\n",
    "import sys\n",
    "import glob\n",
    "from PIL import Image\n",
    "from io import BytesIO\n",
    "import os.path"
   ]
  },
  {
   "cell_type": "code",
   "execution_count": 29,
   "metadata": {},
   "outputs": [],
   "source": [
    "path = \"./inputs/P8/pratheepan/\"\n",
    "number_of_pix = 0\n",
    "white_class = 0\n",
    "black_class = 0\n",
    "for filename in glob.glob(path + 'train/set1/images/*.jpg'): #assuming gif\n",
    "    im_name = os.path.basename(filename)[:-4]\n",
    "    # print (im_name)\n",
    "    im=Image.open(filename)\n",
    "    ground_truth = Image.open(path + 'train/set1/groundtruth/'+im_name+\".png\")\n",
    "\n",
    "    a = np.asarray(im)\n",
    "    g = np.asarray(ground_truth)\n",
    "\n",
    "\n",
    "    for i in range(0, len(g)):\n",
    "        for j in range(0, len(g[0])):\n",
    "            number_of_pix += 1\n",
    "            if g[i][j][0] ==0:\n",
    "                black_class +=1\n",
    "            else:\n",
    "                white_class +=1\n",
    "\n"
   ]
  },
  {
   "cell_type": "code",
   "execution_count": 30,
   "metadata": {},
   "outputs": [
    {
     "name": "stdout",
     "output_type": "stream",
     "text": [
      "probability of white_class 0.27737971103915027\nprobability of Black class 0.7226202889608497\n"
     ]
    }
   ],
   "source": [
    "\n",
    "white_prior = white_class/number_of_pix\n",
    "black_prior = black_class/number_of_pix\n",
    "print (\"probability of white_class\", white_prior)\n",
    "print (\"probability of Black class\", black_prior)"
   ]
  },
  {
   "cell_type": "markdown",
   "metadata": {},
   "source": [
    "#### b) If we decide to model the class-conditional probability density of each class using a univariate Gaussian, what would be the mean and variance of both class-conditional densities?"
   ]
  },
  {
   "cell_type": "code",
   "execution_count": 31,
   "metadata": {},
   "outputs": [],
   "source": [
    "number_of_pix = 0\n",
    "white_class = []\n",
    "black_class = []\n",
    "for filename in glob.glob(path + 'train/set1/images/*.jpg'): #assuming gif\n",
    "    im_name = os.path.basename(filename)[:-4]\n",
    "    # print (im_name)\n",
    "    im=Image.open(filename)\n",
    "    ground_truth = Image.open(path + 'train/set1/groundtruth/'+im_name+\".png\")\n",
    "\n",
    "    a = np.asarray(im)\n",
    "    g = np.asarray(ground_truth)\n",
    "\n",
    "\n",
    "    for i in range(0, len(g)):\n",
    "        for j in range(0, len(g[0])):\n",
    "            number_of_pix += 1\n",
    "            if g[i][j][0] ==0:\n",
    "                black_class.append([a[i][j][0], a[i][j][1],a[i][j][2]])\n",
    "            else:\n",
    "                white_class.append([a[i][j][0], a[i][j][1],a[i][j][2]])\n"
   ]
  },
  {
   "cell_type": "code",
   "execution_count": 13,
   "metadata": {},
   "outputs": [],
   "source": [
    "white_class= np.asarray(white_class)\n",
    "black_class= np.asarray(black_class)"
   ]
  },
  {
   "cell_type": "code",
   "execution_count": 26,
   "metadata": {},
   "outputs": [
    {
     "name": "stdout",
     "output_type": "stream",
     "text": [
      "For Skin class \n -------------\nMean\n [190.49728975 140.99640091 112.06415329]\n-------------\nCovariance Matrix\n[[1938.29686227 1930.01997348 1845.39526753]\n [1930.01997348 2366.6346144  2441.33298208]\n [1845.39526753 2441.33298208 2676.98597279]]\n"
     ]
    }
   ],
   "source": [
    "average = np.average(white_class, axis=0)\n",
    "print (\"For Skin class \\n -------------\")\n",
    "print (\"Mean\\n\", average)\n",
    "print (\"-------------\")\n",
    "# normalized_white_class = white_class - average\n",
    "# normalized_white_class_vectors = normalized_white_class.reshape(-1,1)\n",
    "print (\"Covariance Matrix\")\n",
    "cov = np.cov(white_class.T)\n",
    "print (cov)"
   ]
  },
  {
   "cell_type": "code",
   "execution_count": 27,
   "metadata": {},
   "outputs": [
    {
     "name": "stdout",
     "output_type": "stream",
     "text": [
      "For Non_Skin class \n -------------\nMean\n [128.633646   105.51495792  95.05248156]\n-------------\nCovariance Matrix\n[[7822.84660232 6739.88356763 6287.91273555]\n [6739.88356763 7086.64480118 6897.54707591]\n [6287.91273555 6897.54707591 7098.99338834]]\n"
     ]
    }
   ],
   "source": [
    "average = np.average(black_class, axis=0)\n",
    "print (\"For Non_Skin class \\n -------------\")\n",
    "print (\"Mean\\n\", average)\n",
    "print (\"-------------\")\n",
    "# normalized_white_class = white_class - average\n",
    "# normalized_white_class_vectors = normalized_white_class.reshape(-1,1)\n",
    "print (\"Covariance Matrix\")\n",
    "cov = np.cov(black_class.T)\n",
    "print (cov)"
   ]
  },
  {
   "cell_type": "markdown",
   "metadata": {},
   "source": [
    "#### c) Classify the pixels in image ‘mad_trump.jpg’ and ‘trump_long_tie.jpg’ (Figure 6) and display the results, i.e. the groundtruth image."
   ]
  },
  {
   "cell_type": "code",
   "execution_count": null,
   "metadata": {},
   "outputs": [],
   "source": [
    "trump = Image.open(\"./inputs/P8/mad_trump.jpg\")\n",
    "bias = np.log(pr)\n",
    "output = np.zeros(len(trump), len(trump[0]))\n",
    "for i in range(0, len(trump)):\n",
    "    for j in range(0, len(trump[0])):\n",
    "        \n",
    "        \n",
    "# a = np.asarray(trump)\n",
    "# \n",
    "# for filename in glob.glob(path + 'train/set1/images/*.jpg'): #assuming gif\n",
    "# \n",
    "#     im_name = os.path.basename(filename)[:-4]\n",
    "#     # print (im_name)\n",
    "#     im=Image.open(filename)\n",
    "#     ground_truth = Image.open(path + 'train/set1/groundtruth/'+im_name+\".png\")"
   ]
  },
  {
   "cell_type": "markdown",
   "metadata": {},
   "source": [
    "#### d) Repeat the previous part with a MDC classifier. Display and compare the results."
   ]
  },
  {
   "cell_type": "markdown",
   "metadata": {},
   "source": [
    "#### e) Classify the pixels of the images in ‘test’ folder and report the overall test error."
   ]
  },
  {
   "cell_type": "markdown",
   "metadata": {},
   "source": [
    "#### f) Compute a confusion matrix for this classifier."
   ]
  },
  {
   "cell_type": "markdown",
   "metadata": {},
   "source": [
    "#### g) Calculate the Bayes error."
   ]
  },
  {
   "cell_type": "markdown",
   "metadata": {},
   "source": [
    "#### h) Draw a ROC curve to visualise the performance of the classification."
   ]
  },
  {
   "cell_type": "markdown",
   "metadata": {},
   "source": [
    "#### i) Repeat the previous parts, this time considering all training images (‘set1’ and ‘set2’). Compare the results."
   ]
  },
  {
   "cell_type": "code",
   "execution_count": null,
   "metadata": {},
   "outputs": [],
   "source": []
  },
  {
   "cell_type": "code",
   "execution_count": null,
   "metadata": {},
   "outputs": [],
   "source": []
  },
  {
   "cell_type": "code",
   "execution_count": null,
   "metadata": {},
   "outputs": [],
   "source": []
  },
  {
   "cell_type": "code",
   "execution_count": null,
   "metadata": {},
   "outputs": [],
   "source": []
  },
  {
   "cell_type": "code",
   "execution_count": null,
   "metadata": {},
   "outputs": [],
   "source": []
  },
  {
   "cell_type": "code",
   "execution_count": null,
   "metadata": {},
   "outputs": [],
   "source": []
  }
 ],
 "metadata": {
  "kernelspec": {
   "display_name": "Python 3",
   "language": "python",
   "name": "python3"
  },
  "language_info": {
   "codemirror_mode": {
    "name": "ipython",
    "version": 3
   },
   "file_extension": ".py",
   "mimetype": "text/x-python",
   "name": "python",
   "nbconvert_exporter": "python",
   "pygments_lexer": "ipython3",
   "version": "3.5.1"
  }
 },
 "nbformat": 4,
 "nbformat_minor": 2
}
