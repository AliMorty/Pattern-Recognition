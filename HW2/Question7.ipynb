{
 "cells": [
  {
   "cell_type": "markdown",
   "metadata": {},
   "source": [
    "# Question 7\n",
    "A Receiver Operating Characteristic Curve, aka ROC Curve, is a graphical illustration of the ability\n",
    "of a binary classifier when its discrimination threshold is changed. It is created by plotting the True\n",
    "Positive Rate (TPR), i.e. the Sensitivity or Recall, with respect to the False Positive Rate (FPR) at\n",
    "various threshold settings."
   ]
  },
  {
   "cell_type": "markdown",
   "metadata": {},
   "source": [
    "#### a) Assuming $p(w_0)=0.6$, determine and sketch the decision regions for the minimum-error decision rule. Call them R0 and R1.\n",
    "\n",
    "$$p(w_0|x)\\geq p(w_1|x) \\rightarrow p(w_0)p(x|w_0)\\geq p(w_1)p(x|2_1) \\rightarrow 3 p(x|w_0) \\geq  2 p(x|2_1) $$\n",
    "\n",
    "Doing some elementary calculation, we can find out that for $x \\in [3+\\frac{3}{8}, 6 - \\frac{3}{8}] $, $ 3 p(x|w_0) \\leq 2 p(x|2_1) $ <br>\n",
    "So the R1 is $[3+\\frac{3}{8}, 6 - \\frac{3}{8}]$ and R0 is R-R1\n"
   ]
  },
  {
   "cell_type": "code",
   "execution_count": 15,
   "metadata": {},
   "outputs": [],
   "source": [
    "import numpy as np\n",
    "import pandas as pd\n",
    "import matplotlib.pyplot as plt\n",
    "from scipy.stats import norm\n",
    "import sys"
   ]
  },
  {
   "cell_type": "code",
   "execution_count": 10,
   "metadata": {},
   "outputs": [
    {
     "name": "stdout",
     "output_type": "stream",
     "text": [
      "Sketch\n"
     ]
    },
    {
     "data": {
      "image/png": "[encoded data removed]",
      "text/plain": [
       "<Figure size 432x288 with 1 Axes>"
      ]
     },
     "metadata": {},
     "output_type": "display_data"
    }
   ],
   "source": [
    "x1 = [0,1,8,9]\n",
    "y1=[0,3/8, 3/8, 0]\n",
    "x2 = [3,4,5,6]\n",
    "y2=[0,1,1,0]\n",
    "plt.plot(x1,y1)\n",
    "plt.plot(x2,y2)\n",
    "plt.axvline(x=3 + 3/8, c=\"g\")\n",
    "plt.axvline(x=6 - 3/8, c=\"g\")\n",
    "print (\"Sketch\")\n",
    "plt.show()\n"
   ]
  },
  {
   "cell_type": "markdown",
   "metadata": {},
   "source": [
    "#### b) Compute the corresponding probability of error."
   ]
  },
  {
   "cell_type": "markdown",
   "metadata": {},
   "source": [
    "$$p(error|w_1) = \\epsilon_1 = \\frac{3}{8} \\frac{3}{8} \\frac{1}{2} \\frac{1}{2} * 2 = \\frac{9}{128}, p(w_1)=0.4 \\rightarrow p(w_1)*\\epsilon_1 = \\frac{9}{320}$$\n",
    "$$p(error|w_0)=\\epsilon_0 = (3 - \\frac{3}{4})\\frac{1}{8} = \\frac{9}{4} , p(w_0)=0.6 \\rightarrow p(w_0)*\\epsilon_0 = \\frac{27}{20}$$\n",
    "$$ p(error) = p(error, w_0)+p(error, w_1) =\\frac{9}{320}+\\frac{27}{20}=1.378125$$"
   ]
  },
  {
   "cell_type": "markdown",
   "metadata": {},
   "source": [
    "#### c) Plot ROC Curve "
   ]
  },
  {
   "cell_type": "code",
   "execution_count": 21,
   "metadata": {},
   "outputs": [],
   "source": [
    "def error_0 (x):\n",
    "    if (x>=9):\n",
    "        return 0\n",
    "    if (8<=x<=9):\n",
    "        return (x-9)**2 * (1/16)\n",
    "    if (1<=x<=8):\n",
    "        return 1/16 + (8-x)/8\n",
    "    if (0<=x<=1):\n",
    "        return 1 - (x**2)/16\n",
    "    if (x<=0):\n",
    "        return 1\n",
    "    return -1\n",
    "def error_1(x):\n",
    "    if (x>=6):\n",
    "        return 1\n",
    "    if (5<=x<=6):\n",
    "        return 1 - ((x-6)**2)/4\n",
    "    if (4<=x<=5):\n",
    "        return 1/4 + (x-4)/2\n",
    "    if (3<=x<=4):\n",
    "        return ((x-3)**2)/4\n",
    "    if (x<=3):\n",
    "        return 0\n",
    "    return -1\n",
    "def prob_error_0(x):\n",
    "    # if (error_0(x)<0):\n",
    "    #     print (x)\n",
    "    #     sys.exit(0)\n",
    "    return 0.6 * error_0(x)\n",
    "def prob_error_1(x):\n",
    "    # if (error_1(x)<0):\n",
    "    #     print (x)\n",
    "    #     sys.exit(0)\n",
    "    return 0.4*error_1(x)"
   ]
  },
  {
   "cell_type": "code",
   "execution_count": 24,
   "metadata": {},
   "outputs": [
    {
     "data": {
      "image/png": "[encoded data removed]",
      "text/plain": [
       "<Figure size 432x288 with 1 Axes>"
      ]
     },
     "metadata": {},
     "output_type": "display_data"
    }
   ],
   "source": [
    "x = np.arange(-2,12, 0.1)\n",
    "mis_det = np.zeros(len(x))\n",
    "false_alarm = np.zeros(len(x))\n",
    "for i in range(0, len(x)):\n",
    "    mis_det[i]= prob_error_1(x[i])\n",
    "    false_alarm[i]=prob_error_0(x[i])\n",
    "plt.plot(mis_det, false_alarm)\n",
    "plt.xlabel(\"Misdetection\")\n",
    "plt.ylabel(\"False Alarm\")\n",
    "plt.xlim(0, 1)\n",
    "plt.ylim(0, 1)\n",
    "plt.gca().set_aspect('equal')\n",
    "plt.show()"
   ]
  }
 ],
 "metadata": {
  "kernelspec": {
   "display_name": "Python 3",
   "language": "python",
   "name": "python3"
  },
  "language_info": {
   "codemirror_mode": {
    "name": "ipython",
    "version": 3
   },
   "file_extension": ".py",
   "mimetype": "text/x-python",
   "name": "python",
   "nbconvert_exporter": "python",
   "pygments_lexer": "ipython3",
   "version": "3.5.1"
  }
 },
 "nbformat": 4,
 "nbformat_minor": 2
}
